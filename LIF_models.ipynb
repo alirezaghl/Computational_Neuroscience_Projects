{
  "nbformat": 4,
  "nbformat_minor": 0,
  "metadata": {
    "colab": {
      "provenance": [],
      "authorship_tag": "ABX9TyPM9GrkO2GZNfz089XIINIc",
      "include_colab_link": true
    },
    "kernelspec": {
      "name": "python3",
      "display_name": "Python 3"
    },
    "language_info": {
      "name": "python"
    }
  },
  "cells": [
    {
      "cell_type": "markdown",
      "metadata": {
        "id": "view-in-github",
        "colab_type": "text"
      },
      "source": [
        "<a href=\"https://colab.research.google.com/github/alirezaghl/Computational_Neuroscience_Projects/blob/main/LIF_models.ipynb\" target=\"_parent\"><img src=\"https://colab.research.google.com/assets/colab-badge.svg\" alt=\"Open In Colab\"/></a>"
      ]
    },
    {
      "cell_type": "code",
      "execution_count": 11,
      "metadata": {
        "id": "yyUlFIkVbj1S"
      },
      "outputs": [],
      "source": [
        "import matplotlib.pyplot as plt\n",
        "import numpy as np\n",
        "import math"
      ]
    },
    {
      "cell_type": "markdown",
      "source": [
        "Exponential Decay"
      ],
      "metadata": {
        "id": "i8zqV5mDESfQ"
      }
    },
    {
      "cell_type": "code",
      "source": [
        "t = 0.0\n",
        "dt = 1.0/100.0\n",
        "v = -10.0\n",
        "v_rest = -60.0\n",
        "tau = 2.0\n",
        "v_t = []"
      ],
      "metadata": {
        "id": "W2k2XaZQdEAv"
      },
      "execution_count": 2,
      "outputs": []
    },
    {
      "cell_type": "code",
      "source": [
        "while t < 10.0:\n",
        "  v_t.append(v)\n",
        "  v += (-(v-v_rest)/tau) * dt\n",
        "  t += dt"
      ],
      "metadata": {
        "id": "RQifOQ-EdJ3u"
      },
      "execution_count": 3,
      "outputs": []
    },
    {
      "cell_type": "code",
      "source": [
        "plt.plot(v_t)\n",
        "plt.xlabel('Time (ms)')\n",
        "plt.ylabel('V (mV)');"
      ],
      "metadata": {
        "colab": {
          "base_uri": "https://localhost:8080/",
          "height": 279
        },
        "id": "2oSbBBH7d5AH",
        "outputId": "e7da4e49-202a-4520-e366-062135b7e0be"
      },
      "execution_count": 4,
      "outputs": [
        {
          "output_type": "display_data",
          "data": {
            "text/plain": [
              "<Figure size 432x288 with 1 Axes>"
            ],
            "image/png": "[encoded data removed]"
          },
          "metadata": {
            "needs_background": "light"
          }
        }
      ]
    },
    {
      "cell_type": "markdown",
      "source": [
        "Simple LIF"
      ],
      "metadata": {
        "id": "EyBiZtwFEYqV"
      }
    },
    {
      "cell_type": "code",
      "source": [
        "class Simple_LIF:\n",
        "    def __init__(self, V_th, V_reset, tau_m, g_L, V_init, V_L, T, dt):\n",
        "        self.V_th = V_th # spike threshold [mV]\n",
        "        self.V_reset = V_reset #reset potential [mV]\n",
        "        self.tau_m = tau_m # membrane time constant [ms]\n",
        "        self.g_L = g_L #leak conductance [nS]\n",
        "        self.V_init= V_init # initial potential [mV]\n",
        "        self.V_L = V_L #leak reversal potential [mV]\n",
        "        self.T = T # Total duration of simulation [ms]\n",
        "        self.dt = dt  # Simulation time step [ms]\n",
        "        self.range_t = np.arange(0, self.T, self.dt) # Vector of discretized time points [ms]\n",
        "\n",
        "    def run(self, I):\n",
        "\n",
        "        time = self.range_t.size\n",
        "        SpikeTimes = np.array([])\n",
        "        V = np.zeros(time)\n",
        "        V[0] = self.V_init\n",
        "        I = I * np.ones(time)\n",
        "        SpikeTimes=np.array([])\n",
        "\n",
        "        for i in range(len(self.range_t)-1):\n",
        "          dv = (-(V[i]-self.V_L) + I[i]/self.g_L) * (self.dt/self.tau_m) \n",
        "          V[i+1] = V[i] + dv\n",
        "          \n",
        "          if V[i+1] >= self.V_th:\n",
        "            V[i+1] = self.V_reset\n",
        "            SpikeTimes=np.append(SpikeTimes,self.range_t[i+1])\n",
        "\n",
        "        return V, SpikeTimes      "
      ],
      "metadata": {
        "id": "HPPufJfJub1o"
      },
      "execution_count": 5,
      "outputs": []
    },
    {
      "cell_type": "code",
      "source": [
        "LIF_s = Simple_LIF(-55. , -75. , 10. , 10. , -65., -75. , 400. , .1)"
      ],
      "metadata": {
        "id": "KZfKz00w3SEl"
      },
      "execution_count": 6,
      "outputs": []
    },
    {
      "cell_type": "code",
      "source": [
        "v, spiketimes = LIF_s.run(I = 300.)"
      ],
      "metadata": {
        "id": "KebU3L-_7sXA"
      },
      "execution_count": 7,
      "outputs": []
    },
    {
      "cell_type": "code",
      "source": [
        "def membrane_potential_plotter(time_range, voltage):\n",
        "    plt.plot(time_range, voltage, color = \"blue\")\n",
        "    plt.xlim(0, 400)\n",
        "    plt.xlabel('Time (ms)')\n",
        "    plt.ylabel('Membrane Potential (mV)')\n",
        "    plt.show()"
      ],
      "metadata": {
        "id": "h3P0FyVcJJWs"
      },
      "execution_count": 134,
      "outputs": []
    },
    {
      "cell_type": "code",
      "source": [
        "membrane_potential_plotter(LIF_s.range_t, v)"
      ],
      "metadata": {
        "colab": {
          "base_uri": "https://localhost:8080/",
          "height": 279
        },
        "id": "qZybYZfrJLBd",
        "outputId": "554c3875-b6ef-4e0d-98f2-250fb0848e43"
      },
      "execution_count": 9,
      "outputs": [
        {
          "output_type": "display_data",
          "data": {
            "text/plain": [
              "<Figure size 432x288 with 1 Axes>"
            ],
            "image/png": "[encoded data removed]"
          },
          "metadata": {
            "needs_background": "light"
          }
        }
      ]
    },
    {
      "cell_type": "markdown",
      "source": [
        "Adaptive LIF"
      ],
      "metadata": {
        "id": "IRp0RahqEmx8"
      }
    },
    {
      "cell_type": "code",
      "source": [
        "class Simple_Adaptive_LIF:\n",
        "    def __init__(self, V_th, V_reset, tau_m, g_L, V_init, V_L, T, dt, a, b, w_init, delta_t):\n",
        "        self.V_th = V_th # spike threshold [mV]\n",
        "        self.V_reset = V_reset #reset potential [mV]\n",
        "        self.tau_m = tau_m # membrane time constant [ms]\n",
        "        self.g_L = g_L #leak conductance [nS]\n",
        "        self.V_init= V_init # initial potential [mV]\n",
        "        self.V_L = V_L #leak reversal potential [mV]\n",
        "        self.T = T # Total duration of simulation [ms]\n",
        "        self.dt = dt  # Simulation time step [ms]\n",
        "        self.a = a\n",
        "        self.b = b\n",
        "        self.W_init = w_init\n",
        "        self.delta_t = delta_t\n",
        "        self.range_t = np.arange(0, self.T, self.dt) # Vector of discretized time points [ms]\n",
        "\n",
        "    def run(self, I):\n",
        "\n",
        "        time = self.range_t.size\n",
        "        SpikeTimes = np.array([])\n",
        "        V = np.zeros(time)\n",
        "        V[0] = self.V_init\n",
        "        W = np.zeros(time)\n",
        "        W[0] = self.W_init\n",
        "        I = I * np.ones(time)\n",
        "        SpikeTimes=np.array([])\n",
        "\n",
        "        for i in range(len(self.range_t)-1):\n",
        "          dw = (self.a * (V[i]-self.V_L) - W[i]) * (self.dt/self.tau_m)\n",
        "          W[i+1] = W[i] + dw\n",
        "          dv = (\n",
        "                -(V[i]-self.V_L) \n",
        "                + self.delta_t*math.exp((v[i] - self.V_th)/self.delta_t) \n",
        "                + I[i]/self.g_L \n",
        "                - W[i+1]/self.g_L\n",
        "                ) * (self.dt/self.tau_m)\n",
        "            \n",
        "            #update the membrane potential\n",
        "          V[i+1] = V[i] + dv\n",
        "          \n",
        "          if V[i+1] >= self.V_th:\n",
        "            V[i+1] = self.V_reset\n",
        "            SpikeTimes=np.append(SpikeTimes,self.range_t[i+1])\n",
        "            W[i+1] = W[i+1] + self.b\n",
        "\n",
        "\n",
        "        return V, SpikeTimes      "
      ],
      "metadata": {
        "id": "C6RByT8TGViS"
      },
      "execution_count": 71,
      "outputs": []
    },
    {
      "cell_type": "code",
      "source": [
        "ALIF_s = Simple_Adaptive_LIF(-55. , -75. , 10. , 10. , -65., -75. , 400. , .1, 20., 3., 0., 1)"
      ],
      "metadata": {
        "id": "5yYy_gylKpqR"
      },
      "execution_count": 146,
      "outputs": []
    },
    {
      "cell_type": "markdown",
      "source": [
        "Creating function for a step current input"
      ],
      "metadata": {
        "id": "ea-y1TI8FBaq"
      }
    },
    {
      "cell_type": "code",
      "source": [
        "def Step_I(T,dt):\n",
        "  range_T = np.arange(0, T, dt)\n",
        "  Lt = (range_T).size\n",
        "  I=np.zeros_like(range_T)\n",
        "  I[(range_T>=100) & (range_T<=200)]=500\n",
        "  return range_T, I"
      ],
      "metadata": {
        "id": "AvdjjZM6Ry8P"
      },
      "execution_count": 180,
      "outputs": []
    },
    {
      "cell_type": "code",
      "source": [
        "time, Ix = Step_I(400,.1)"
      ],
      "metadata": {
        "id": "eAEtGr2VTK_O"
      },
      "execution_count": 181,
      "outputs": []
    },
    {
      "cell_type": "code",
      "source": [
        "plt.subplots(figsize=(8, 2.5))\n",
        "\n",
        "plt.subplot(1,2,1)\n",
        "plt.plot(time,Ix,color='r')\n",
        "#plt.xlabel('time (ms)')\n",
        "plt.ylabel('I$_x$ (mV)')\n",
        "plt.title('A',loc='left')"
      ],
      "metadata": {
        "colab": {
          "base_uri": "https://localhost:8080/",
          "height": 272
        },
        "id": "xFgHd5svS0Sd",
        "outputId": "44c13b77-5943-40bb-c776-6ba4cef4bc08"
      },
      "execution_count": 182,
      "outputs": [
        {
          "output_type": "stream",
          "name": "stderr",
          "text": [
            "<ipython-input-182-aa4d6f59c58f>:3: MatplotlibDeprecationWarning: Auto-removal of overlapping axes is deprecated since 3.6 and will be removed two minor releases later; explicitly call ax.remove() as needed.\n",
            "  plt.subplot(1,2,1)\n"
          ]
        },
        {
          "output_type": "execute_result",
          "data": {
            "text/plain": [
              "Text(0.0, 1.0, 'A')"
            ]
          },
          "metadata": {},
          "execution_count": 182
        },
        {
          "output_type": "display_data",
          "data": {
            "text/plain": [
              "<Figure size 576x180 with 1 Axes>"
            ],
            "image/png": "[encoded data removed]"
          },
          "metadata": {
            "needs_background": "light"
          }
        }
      ]
    },
    {
      "cell_type": "code",
      "source": [
        "volt, spiketimes = ALIF_s.run(Ix)"
      ],
      "metadata": {
        "id": "YYiXABimLBII"
      },
      "execution_count": 183,
      "outputs": []
    },
    {
      "cell_type": "code",
      "source": [
        "membrane_potential_plotter(ALIF_s.range_t, volt)"
      ],
      "metadata": {
        "colab": {
          "base_uri": "https://localhost:8080/",
          "height": 279
        },
        "id": "escgvFJ2Lb73",
        "outputId": "3e3f8023-6c1a-410c-8c3d-c64235a0b651"
      },
      "execution_count": 184,
      "outputs": [
        {
          "output_type": "display_data",
          "data": {
            "text/plain": [
              "<Figure size 432x288 with 1 Axes>"
            ],
            "image/png": "[encoded data removed]"
          },
          "metadata": {
            "needs_background": "light"
          }
        }
      ]
    }
  ]
}